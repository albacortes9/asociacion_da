{
 "cells": [
  {
   "cell_type": "markdown",
   "id": "01c491c9",
   "metadata": {},
   "source": [
    "# Análisis de Reglas de Asociación en un Dataset de Compras\n",
    "\n",
    "Este proyecto tiene como objetivo aplicar técnicas de minería de datos, específicamente reglas de asociación. Utilizaremos el algoritmo Apriori para descubrir patrones frecuentes en las compras realizadas por los clientes.\n",
    "\n",
    "El trabajo se ha dividido en varias fases: carga y preprocesado, exploración, aplicación del algoritmo y análisis de resultados."
   ]
  },
  {
   "cell_type": "code",
   "execution_count": 26,
   "id": "0f2fc186",
   "metadata": {},
   "outputs": [],
   "source": [
    "# Importación de librerías\n",
    "import pandas as pd\n",
    "import matplotlib\n",
    "import matplotlib.pyplot as plt\n",
    "import numpy as np\n",
    "# Configurar matplotlib para evitar warnings relacionados con fuentes\n",
    "matplotlib.rcParams['font.family'] = 'DejaVu Sans'"
   ]
  },
  {
   "cell_type": "markdown",
   "id": "849352ea",
   "metadata": {},
   "source": [
    "## Parte 1: Carga y Preprocesamiento de Datos\n",
    "\n",
    "En esta sección se realiza la exploración inicial y limpieza del dataset para prepararlo para el algoritmo Apriori. Se cargan los datos desde un archivo CSV, transformando cada transacción en una lista de productos y eliminando valores vacíos. Se identifican los productos únicos y se crea un DataFrame binario donde cada fila representa una transacción y cada columna un producto, indicando con 1 si el producto está presente."
   ]
  },
  {
   "cell_type": "code",
   "execution_count": 106,
   "id": "f65b4852",
   "metadata": {},
   "outputs": [
    {
     "data": {
      "text/html": [
       "<div>\n",
       "<style scoped>\n",
       "    .dataframe tbody tr th:only-of-type {\n",
       "        vertical-align: middle;\n",
       "    }\n",
       "\n",
       "    .dataframe tbody tr th {\n",
       "        vertical-align: top;\n",
       "    }\n",
       "\n",
       "    .dataframe thead th {\n",
       "        text-align: right;\n",
       "    }\n",
       "</style>\n",
       "<table border=\"1\" class=\"dataframe\">\n",
       "  <thead>\n",
       "    <tr style=\"text-align: right;\">\n",
       "      <th></th>\n",
       "      <th>0</th>\n",
       "    </tr>\n",
       "  </thead>\n",
       "  <tbody>\n",
       "    <tr>\n",
       "      <th>0</th>\n",
       "      <td>citrus fruit,semi-finished bread,margarine,rea...</td>\n",
       "    </tr>\n",
       "    <tr>\n",
       "      <th>1</th>\n",
       "      <td>tropical fruit,yogurt,coffee</td>\n",
       "    </tr>\n",
       "    <tr>\n",
       "      <th>2</th>\n",
       "      <td>whole milk</td>\n",
       "    </tr>\n",
       "    <tr>\n",
       "      <th>3</th>\n",
       "      <td>pip fruit,yogurt,cream cheese ,meat spreads</td>\n",
       "    </tr>\n",
       "    <tr>\n",
       "      <th>4</th>\n",
       "      <td>other vegetables,whole milk,condensed milk,lon...</td>\n",
       "    </tr>\n",
       "  </tbody>\n",
       "</table>\n",
       "</div>"
      ],
      "text/plain": [
       "                                                   0\n",
       "0  citrus fruit,semi-finished bread,margarine,rea...\n",
       "1                       tropical fruit,yogurt,coffee\n",
       "2                                         whole milk\n",
       "3        pip fruit,yogurt,cream cheese ,meat spreads\n",
       "4  other vegetables,whole milk,condensed milk,lon..."
      ]
     },
     "execution_count": 106,
     "metadata": {},
     "output_type": "execute_result"
    }
   ],
   "source": [
    "# Lectura del archivo CSV\n",
    "df = pd.read_csv('groceries.csv', sep=\";\", header= None)\n",
    "df.head()"
   ]
  },
  {
   "cell_type": "code",
   "execution_count": 107,
   "id": "07e00ad7",
   "metadata": {},
   "outputs": [
    {
     "name": "stdout",
     "output_type": "stream",
     "text": [
      "(9835, 1)\n",
      "<class 'pandas.core.frame.DataFrame'>\n",
      "RangeIndex: 9835 entries, 0 to 9834\n",
      "Data columns (total 1 columns):\n",
      " #   Column  Non-Null Count  Dtype \n",
      "---  ------  --------------  ----- \n",
      " 0   0       9835 non-null   object\n",
      "dtypes: object(1)\n",
      "memory usage: 77.0+ KB\n"
     ]
    }
   ],
   "source": [
    "# Tamaño y estructura\n",
    "print(df.shape)\n",
    "\n",
    "df.info()"
   ]
  },
  {
   "cell_type": "code",
   "execution_count": 65,
   "id": "255dd3ba",
   "metadata": {},
   "outputs": [
    {
     "name": "stdout",
     "output_type": "stream",
     "text": [
      "Número total de transacciones: 9835\n"
     ]
    }
   ],
   "source": [
    "# Carga de datos y limpieza básica\n",
    "dataset = []\n",
    "for line in df.values:\n",
    "    items = line[0].strip().split(',') \n",
    "    items = [item for item in items if item != '']\n",
    "    dataset.append(items)\n",
    "\n",
    "# Mostrar cuántas transacciones hay\n",
    "print(f\"Número total de transacciones: {len(dataset)}\")"
   ]
  },
  {
   "cell_type": "code",
   "execution_count": null,
   "id": "c65d515f",
   "metadata": {},
   "outputs": [
    {
     "name": "stdout",
     "output_type": "stream",
     "text": [
      "['beverages', 'turkey', 'photo/film', 'hamburger meat', 'pickled vegetables', 'canned fish', 'liquor (appetizer)', 'salad dressing', 'syrup', 'nut snack', 'baby food', 'mayonnaise', 'specialty fat', 'meat', 'coffee', 'artif. sweetener', 'snack products', 'sugar', 'female sanitary products', 'baby cosmetics', 'spices', 'liqueur', 'rice', 'condensed milk', 'oil', 'detergent', 'domestic eggs', 'tropical fruit', 'organic products', 'chocolate marshmallow', 'cake bar', 'prosecco', 'frozen fruits', 'soft cheese', 'liquor', 'whisky', 'yogurt', 'dessert', 'organic sausage', 'cereals', 'frankfurter', 'waffles', 'tea', 'dog food', 'kitchen utensil', 'cling film/bags', 'brandy', 'ketchup', 'canned vegetables', 'frozen vegetables', 'nuts/prunes', 'curd', 'butter', 'seasonal products', 'sparkling wine', 'rum', 'ice cream', 'packaged fruit/vegetables', 'toilet cleaner', 'pip fruit', 'liver loaf', 'light bulbs', 'vinegar', 'soda', 'mustard', 'whole milk', 'newspapers', 'chewing gum', 'cleaner', 'cat food', 'cocoa drinks', 'specialty vegetables', 'bags', 'frozen dessert', 'UHT-milk', 'candy', 'jam', 'hard cheese', 'frozen potato products', 'soups', 'instant coffee', 'frozen meals', 'long life bakery product', 'sausage', 'candles', 'softener', 'pet care', 'salt', 'cream', 'roll products', 'make up remover', 'cooking chocolate', 'butter milk', 'pastry', 'canned fruit', 'cream cheese ', 'bottled water', 'male cosmetics', 'fish', 'napkins', 'sauces', 'roll products ', 'specialty bar', 'decalcifier', 'pudding powder', 'red/blush wine', 'flower (seeds)', 'processed cheese', 'margarine', 'white wine', 'tidbits', 'white bread', 'salty snack', 'flower soil/fertilizer', 'baking powder', 'cookware', 'soap', 'semi-finished bread', 'dental care', 'sound storage medium', 'spread cheese', 'dishes', 'cream cheese', 'skin care', 'chocolate', 'specialty chocolate', 'pasta', 'beef', 'berries', 'hair spray', 'pork', 'kitchen towels', 'rolls/buns', 'frozen chicken', 'onions', 'house keeping products', 'ready soups', 'curd cheese', 'potato products', 'rubbing alcohol', 'herbs', 'chicken', 'misc. beverages', 'grapes', 'whipped/sour cream', 'preservation products', 'root vegetables', 'ham', 'sweet spreads', 'frozen fish', 'Instant food products', 'citrus fruit', 'meat spreads', 'shopping bags', 'bathroom cleaner', 'pot plants', 'specialty cheese', 'popcorn', 'sliced cheese', 'hygiene articles', 'finished products', 'honey', 'abrasive cleaner', 'bottled beer', 'fruit/vegetable juice', 'canned beer', 'brown bread', 'zwieback', 'other vegetables', 'dish cleaner', 'flour']\n",
      "Número total de productos únicos: 171\n"
     ]
    }
   ],
   "source": [
    "# Crear un conjunto para almacenar los productos únicos de todas las transacciones\n",
    "productos_unicos = set(item for transaccion in dataset for item in transaccion)\n",
    "\n",
    "# Convertir el conjunto a una lista\n",
    "productos_unicos_lista = list(productos_unicos)\n",
    "\n",
    "# Mostrar los productos únicos\n",
    "print(f\"Número total de productos únicos: {len(productos_unicos_lista)}\")\n"
   ]
  },
  {
   "cell_type": "code",
   "execution_count": 72,
   "id": "0aa6b72f",
   "metadata": {},
   "outputs": [
    {
     "data": {
      "text/html": [
       "<div>\n",
       "<style scoped>\n",
       "    .dataframe tbody tr th:only-of-type {\n",
       "        vertical-align: middle;\n",
       "    }\n",
       "\n",
       "    .dataframe tbody tr th {\n",
       "        vertical-align: top;\n",
       "    }\n",
       "\n",
       "    .dataframe thead th {\n",
       "        text-align: right;\n",
       "    }\n",
       "</style>\n",
       "<table border=\"1\" class=\"dataframe\">\n",
       "  <thead>\n",
       "    <tr style=\"text-align: right;\">\n",
       "      <th></th>\n",
       "      <th>beverages</th>\n",
       "      <th>turkey</th>\n",
       "      <th>photo/film</th>\n",
       "      <th>hamburger meat</th>\n",
       "      <th>pickled vegetables</th>\n",
       "      <th>canned fish</th>\n",
       "      <th>liquor (appetizer)</th>\n",
       "      <th>salad dressing</th>\n",
       "      <th>syrup</th>\n",
       "      <th>nut snack</th>\n",
       "      <th>...</th>\n",
       "      <th>honey</th>\n",
       "      <th>abrasive cleaner</th>\n",
       "      <th>bottled beer</th>\n",
       "      <th>fruit/vegetable juice</th>\n",
       "      <th>canned beer</th>\n",
       "      <th>brown bread</th>\n",
       "      <th>zwieback</th>\n",
       "      <th>other vegetables</th>\n",
       "      <th>dish cleaner</th>\n",
       "      <th>flour</th>\n",
       "    </tr>\n",
       "  </thead>\n",
       "  <tbody>\n",
       "  </tbody>\n",
       "</table>\n",
       "<p>0 rows × 171 columns</p>\n",
       "</div>"
      ],
      "text/plain": [
       "Empty DataFrame\n",
       "Columns: [beverages, turkey, photo/film, hamburger meat, pickled vegetables, canned fish, liquor (appetizer), salad dressing, syrup, nut snack, baby food, mayonnaise, specialty fat, meat, coffee, artif. sweetener, snack products, sugar, female sanitary products, baby cosmetics, spices, liqueur, rice, condensed milk, oil, detergent, domestic eggs, tropical fruit, organic products, chocolate marshmallow, cake bar, prosecco, frozen fruits, soft cheese, liquor, whisky, yogurt, dessert, organic sausage, cereals, frankfurter, waffles, tea, dog food, kitchen utensil, cling film/bags, brandy, ketchup, canned vegetables, frozen vegetables, nuts/prunes, curd, butter, seasonal products, sparkling wine, rum, ice cream, packaged fruit/vegetables, toilet cleaner, pip fruit, liver loaf, light bulbs, vinegar, soda, mustard, whole milk, newspapers, chewing gum, cleaner, cat food, cocoa drinks, specialty vegetables, bags, frozen dessert, UHT-milk, candy, jam, hard cheese, frozen potato products, soups, instant coffee, frozen meals, long life bakery product, sausage, candles, softener, pet care, salt, cream, roll products, make up remover, cooking chocolate, butter milk, pastry, canned fruit, cream cheese , bottled water, male cosmetics, fish, napkins, ...]\n",
       "Index: []\n",
       "\n",
       "[0 rows x 171 columns]"
      ]
     },
     "execution_count": 72,
     "metadata": {},
     "output_type": "execute_result"
    }
   ],
   "source": [
    "# Convertir la lista a un DataFrame\n",
    "apriori_df = pd.DataFrame(columns=productos_unicos_lista)\n",
    "\n",
    "# Mostrar el DataFrame\n",
    "apriori_df"
   ]
  },
  {
   "cell_type": "code",
   "execution_count": null,
   "id": "c3591358",
   "metadata": {},
   "outputs": [
    {
     "data": {
      "text/html": [
       "<div>\n",
       "<style scoped>\n",
       "    .dataframe tbody tr th:only-of-type {\n",
       "        vertical-align: middle;\n",
       "    }\n",
       "\n",
       "    .dataframe tbody tr th {\n",
       "        vertical-align: top;\n",
       "    }\n",
       "\n",
       "    .dataframe thead th {\n",
       "        text-align: right;\n",
       "    }\n",
       "</style>\n",
       "<table border=\"1\" class=\"dataframe\">\n",
       "  <thead>\n",
       "    <tr style=\"text-align: right;\">\n",
       "      <th></th>\n",
       "      <th>beverages</th>\n",
       "      <th>turkey</th>\n",
       "      <th>photo/film</th>\n",
       "      <th>hamburger meat</th>\n",
       "      <th>pickled vegetables</th>\n",
       "      <th>canned fish</th>\n",
       "      <th>liquor (appetizer)</th>\n",
       "      <th>salad dressing</th>\n",
       "      <th>syrup</th>\n",
       "      <th>nut snack</th>\n",
       "      <th>...</th>\n",
       "      <th>honey</th>\n",
       "      <th>abrasive cleaner</th>\n",
       "      <th>bottled beer</th>\n",
       "      <th>fruit/vegetable juice</th>\n",
       "      <th>canned beer</th>\n",
       "      <th>brown bread</th>\n",
       "      <th>zwieback</th>\n",
       "      <th>other vegetables</th>\n",
       "      <th>dish cleaner</th>\n",
       "      <th>flour</th>\n",
       "    </tr>\n",
       "  </thead>\n",
       "  <tbody>\n",
       "    <tr>\n",
       "      <th>0</th>\n",
       "      <td>0</td>\n",
       "      <td>0</td>\n",
       "      <td>0</td>\n",
       "      <td>0</td>\n",
       "      <td>0</td>\n",
       "      <td>0</td>\n",
       "      <td>0</td>\n",
       "      <td>0</td>\n",
       "      <td>0</td>\n",
       "      <td>0</td>\n",
       "      <td>...</td>\n",
       "      <td>0</td>\n",
       "      <td>0</td>\n",
       "      <td>0</td>\n",
       "      <td>0</td>\n",
       "      <td>0</td>\n",
       "      <td>0</td>\n",
       "      <td>0</td>\n",
       "      <td>0</td>\n",
       "      <td>0</td>\n",
       "      <td>0</td>\n",
       "    </tr>\n",
       "    <tr>\n",
       "      <th>1</th>\n",
       "      <td>0</td>\n",
       "      <td>0</td>\n",
       "      <td>0</td>\n",
       "      <td>0</td>\n",
       "      <td>0</td>\n",
       "      <td>0</td>\n",
       "      <td>0</td>\n",
       "      <td>0</td>\n",
       "      <td>0</td>\n",
       "      <td>0</td>\n",
       "      <td>...</td>\n",
       "      <td>0</td>\n",
       "      <td>0</td>\n",
       "      <td>0</td>\n",
       "      <td>0</td>\n",
       "      <td>0</td>\n",
       "      <td>0</td>\n",
       "      <td>0</td>\n",
       "      <td>0</td>\n",
       "      <td>0</td>\n",
       "      <td>0</td>\n",
       "    </tr>\n",
       "    <tr>\n",
       "      <th>2</th>\n",
       "      <td>0</td>\n",
       "      <td>0</td>\n",
       "      <td>0</td>\n",
       "      <td>0</td>\n",
       "      <td>0</td>\n",
       "      <td>0</td>\n",
       "      <td>0</td>\n",
       "      <td>0</td>\n",
       "      <td>0</td>\n",
       "      <td>0</td>\n",
       "      <td>...</td>\n",
       "      <td>0</td>\n",
       "      <td>0</td>\n",
       "      <td>0</td>\n",
       "      <td>0</td>\n",
       "      <td>0</td>\n",
       "      <td>0</td>\n",
       "      <td>0</td>\n",
       "      <td>0</td>\n",
       "      <td>0</td>\n",
       "      <td>0</td>\n",
       "    </tr>\n",
       "    <tr>\n",
       "      <th>3</th>\n",
       "      <td>0</td>\n",
       "      <td>0</td>\n",
       "      <td>0</td>\n",
       "      <td>0</td>\n",
       "      <td>0</td>\n",
       "      <td>0</td>\n",
       "      <td>0</td>\n",
       "      <td>0</td>\n",
       "      <td>0</td>\n",
       "      <td>0</td>\n",
       "      <td>...</td>\n",
       "      <td>0</td>\n",
       "      <td>0</td>\n",
       "      <td>0</td>\n",
       "      <td>0</td>\n",
       "      <td>0</td>\n",
       "      <td>0</td>\n",
       "      <td>0</td>\n",
       "      <td>0</td>\n",
       "      <td>0</td>\n",
       "      <td>0</td>\n",
       "    </tr>\n",
       "    <tr>\n",
       "      <th>4</th>\n",
       "      <td>0</td>\n",
       "      <td>0</td>\n",
       "      <td>0</td>\n",
       "      <td>0</td>\n",
       "      <td>0</td>\n",
       "      <td>0</td>\n",
       "      <td>0</td>\n",
       "      <td>0</td>\n",
       "      <td>0</td>\n",
       "      <td>0</td>\n",
       "      <td>...</td>\n",
       "      <td>0</td>\n",
       "      <td>0</td>\n",
       "      <td>0</td>\n",
       "      <td>0</td>\n",
       "      <td>0</td>\n",
       "      <td>0</td>\n",
       "      <td>0</td>\n",
       "      <td>1</td>\n",
       "      <td>0</td>\n",
       "      <td>0</td>\n",
       "    </tr>\n",
       "  </tbody>\n",
       "</table>\n",
       "<p>5 rows × 171 columns</p>\n",
       "</div>"
      ],
      "text/plain": [
       "   beverages  turkey  photo/film  hamburger meat  pickled vegetables  \\\n",
       "0          0       0           0               0                   0   \n",
       "1          0       0           0               0                   0   \n",
       "2          0       0           0               0                   0   \n",
       "3          0       0           0               0                   0   \n",
       "4          0       0           0               0                   0   \n",
       "\n",
       "   canned fish  liquor (appetizer)  salad dressing  syrup  nut snack  ...  \\\n",
       "0            0                   0               0      0          0  ...   \n",
       "1            0                   0               0      0          0  ...   \n",
       "2            0                   0               0      0          0  ...   \n",
       "3            0                   0               0      0          0  ...   \n",
       "4            0                   0               0      0          0  ...   \n",
       "\n",
       "   honey  abrasive cleaner  bottled beer  fruit/vegetable juice  canned beer  \\\n",
       "0      0                 0             0                      0            0   \n",
       "1      0                 0             0                      0            0   \n",
       "2      0                 0             0                      0            0   \n",
       "3      0                 0             0                      0            0   \n",
       "4      0                 0             0                      0            0   \n",
       "\n",
       "   brown bread  zwieback  other vegetables  dish cleaner  flour  \n",
       "0            0         0                 0             0      0  \n",
       "1            0         0                 0             0      0  \n",
       "2            0         0                 0             0      0  \n",
       "3            0         0                 0             0      0  \n",
       "4            0         0                 1             0      0  \n",
       "\n",
       "[5 rows x 171 columns]"
      ]
     },
     "execution_count": 75,
     "metadata": {},
     "output_type": "execute_result"
    }
   ],
   "source": [
    "# Crear un DataFrame vacío con las columnas de productos únicos\n",
    "apriori = pd.DataFrame(0, index=range(len(dataset)), columns=productos_unicos_lista)\n",
    "\n",
    "# Rellenar el DataFrame con 1 si el producto está presente en la transacción\n",
    "for i, transaction in enumerate(dataset):\n",
    "    apriori.loc[i, transaction] = 1\n",
    "\n",
    "# Mostrar el DataFrame que se usará en el algoritmo Apriori\n",
    "apriori.head()\n"
   ]
  },
  {
   "cell_type": "code",
   "execution_count": 76,
   "id": "591c3957",
   "metadata": {},
   "outputs": [
    {
     "data": {
      "text/plain": [
       "(9835, 171)"
      ]
     },
     "execution_count": 76,
     "metadata": {},
     "output_type": "execute_result"
    }
   ],
   "source": [
    "apriori.shape"
   ]
  },
  {
   "cell_type": "code",
   "execution_count": 77,
   "id": "0f9b3f6e",
   "metadata": {},
   "outputs": [
    {
     "name": "stdout",
     "output_type": "stream",
     "text": [
      "<class 'pandas.core.frame.DataFrame'>\n",
      "RangeIndex: 9835 entries, 0 to 9834\n",
      "Columns: 171 entries, beverages to flour\n",
      "dtypes: int64(171)\n",
      "memory usage: 12.8 MB\n"
     ]
    }
   ],
   "source": [
    "apriori.info()"
   ]
  },
  {
   "cell_type": "markdown",
   "id": "c91f0922",
   "metadata": {},
   "source": [
    "## Parte 2: Exploración de los Datos\n",
    "\n",
    "En esta fase, se realiza un análisis exploratorio del conjunto de datos para comprender mejor su estructura y características. Se llevan a cabo diversas tareas de análisis y visualización de datos. Estas incluyen la exploración de las transacciones, el análisis de la frecuencia de los productos, la visualización de los productos más comprados, el cálculo de porcentajes de compra, y el análisis de patrones en las compras."
   ]
  },
  {
   "cell_type": "code",
   "execution_count": 114,
   "id": "b4ce1632",
   "metadata": {},
   "outputs": [
    {
     "name": "stdout",
     "output_type": "stream",
     "text": [
      "Longitud media de las transacciones: 4.41 productos\n"
     ]
    },
    {
     "data": {
      "image/png": "[encoded data removed]",
      "text/plain": [
       "<Figure size 640x480 with 1 Axes>"
      ]
     },
     "metadata": {},
     "output_type": "display_data"
    }
   ],
   "source": [
    "# Exploración de las transacciones\n",
    "# Media de la longitud de las transacciones\n",
    "longitudes = [len(transaccion) for transaccion in dataset]\n",
    "print(f\"Longitud media de las transacciones: {sum(longitudes)/len(longitudes):.2f} productos\")\n",
    "\n",
    "# Visualización de la longitud de las transacciones\n",
    "plt.hist(longitudes, bins=range(1, max(longitudes)+1), edgecolor='black')\n",
    "plt.title(\"Distribución de la longitud de las transacciones\")\n",
    "plt.xlabel(\"Número de productos\")\n",
    "plt.ylabel(\"Frecuencia\")\n",
    "plt.show()\n"
   ]
  },
  {
   "cell_type": "code",
   "execution_count": 112,
   "id": "2b619b35",
   "metadata": {},
   "outputs": [
    {
     "data": {
      "image/png": "[encoded data removed]",
      "text/plain": [
       "<Figure size 1000x600 with 1 Axes>"
      ]
     },
     "metadata": {},
     "output_type": "display_data"
    }
   ],
   "source": [
    "# Análisis de frecuencia de productos\n",
    "items_series = pd.Series([item for sublist in dataset for item in sublist])\n",
    "frecuencia_productos = items_series.value_counts().reset_index()\n",
    "frecuencia_productos.columns = ['Producto', 'Frecuencia']\n",
    "\n",
    "# Crear una gráfica de barras para visualizar las frecuencias de los productos\n",
    "plt.figure(figsize=(10, 6))\n",
    "plt.bar(frecuencia_productos['Producto'][:50], frecuencia_productos['Frecuencia'][:50], color='skyblue')\n",
    "plt.title('50 Productos Más Frecuentes', fontsize=14)\n",
    "plt.xlabel('Producto', fontsize=12)\n",
    "plt.ylabel('Frecuencia', fontsize=12)\n",
    "plt.xticks(rotation=90, ha='right')\n",
    "plt.tight_layout()\n",
    "plt.show()"
   ]
  },
  {
   "cell_type": "code",
   "execution_count": 133,
   "id": "03eea605",
   "metadata": {},
   "outputs": [
    {
     "data": {
      "text/html": [
       "<div>\n",
       "<style scoped>\n",
       "    .dataframe tbody tr th:only-of-type {\n",
       "        vertical-align: middle;\n",
       "    }\n",
       "\n",
       "    .dataframe tbody tr th {\n",
       "        vertical-align: top;\n",
       "    }\n",
       "\n",
       "    .dataframe thead th {\n",
       "        text-align: right;\n",
       "    }\n",
       "</style>\n",
       "<table border=\"1\" class=\"dataframe\">\n",
       "  <thead>\n",
       "    <tr style=\"text-align: right;\">\n",
       "      <th></th>\n",
       "      <th>Purchased</th>\n",
       "      <th>Not Purchased</th>\n",
       "    </tr>\n",
       "  </thead>\n",
       "  <tbody>\n",
       "    <tr>\n",
       "      <th>whole milk</th>\n",
       "      <td>2513</td>\n",
       "      <td>7322</td>\n",
       "    </tr>\n",
       "    <tr>\n",
       "      <th>other vegetables</th>\n",
       "      <td>1903</td>\n",
       "      <td>7932</td>\n",
       "    </tr>\n",
       "    <tr>\n",
       "      <th>rolls/buns</th>\n",
       "      <td>1809</td>\n",
       "      <td>8026</td>\n",
       "    </tr>\n",
       "    <tr>\n",
       "      <th>soda</th>\n",
       "      <td>1715</td>\n",
       "      <td>8120</td>\n",
       "    </tr>\n",
       "    <tr>\n",
       "      <th>yogurt</th>\n",
       "      <td>1372</td>\n",
       "      <td>8463</td>\n",
       "    </tr>\n",
       "    <tr>\n",
       "      <th>...</th>\n",
       "      <td>...</td>\n",
       "      <td>...</td>\n",
       "    </tr>\n",
       "    <tr>\n",
       "      <th>bags</th>\n",
       "      <td>4</td>\n",
       "      <td>9831</td>\n",
       "    </tr>\n",
       "    <tr>\n",
       "      <th>kitchen utensil</th>\n",
       "      <td>4</td>\n",
       "      <td>9831</td>\n",
       "    </tr>\n",
       "    <tr>\n",
       "      <th>preservation products</th>\n",
       "      <td>2</td>\n",
       "      <td>9833</td>\n",
       "    </tr>\n",
       "    <tr>\n",
       "      <th>baby food</th>\n",
       "      <td>1</td>\n",
       "      <td>9834</td>\n",
       "    </tr>\n",
       "    <tr>\n",
       "      <th>sound storage medium</th>\n",
       "      <td>1</td>\n",
       "      <td>9834</td>\n",
       "    </tr>\n",
       "  </tbody>\n",
       "</table>\n",
       "<p>171 rows × 2 columns</p>\n",
       "</div>"
      ],
      "text/plain": [
       "                       Purchased  Not Purchased\n",
       "whole milk                  2513           7322\n",
       "other vegetables            1903           7932\n",
       "rolls/buns                  1809           8026\n",
       "soda                        1715           8120\n",
       "yogurt                      1372           8463\n",
       "...                          ...            ...\n",
       "bags                           4           9831\n",
       "kitchen utensil                4           9831\n",
       "preservation products          2           9833\n",
       "baby food                      1           9834\n",
       "sound storage medium           1           9834\n",
       "\n",
       "[171 rows x 2 columns]"
      ]
     },
     "execution_count": 133,
     "metadata": {},
     "output_type": "execute_result"
    }
   ],
   "source": [
    "# Calcular la cantidad de artículos comprados y no comprados\n",
    "comprados = apriori.sum(axis=0)\n",
    "no_comprados = len(apriori) - comprados\n",
    "\n",
    "# Crear un DataFrame para mostrar los resultados\n",
    "compras_producto = pd.DataFrame({\n",
    "    'Purchased': comprados,\n",
    "    'Not Purchased': no_comprados,\n",
    "})\n",
    "\n",
    "# Ordernar el DataFrame por la cantidad de productos comprados\n",
    "compras_producto = compras_producto.sort_values(by='Purchased', ascending=False)\n",
    "\n",
    "compras_producto"
   ]
  },
  {
   "cell_type": "code",
   "execution_count": null,
   "id": "4050140f",
   "metadata": {},
   "outputs": [
    {
     "data": {
      "text/html": [
       "<div>\n",
       "<style scoped>\n",
       "    .dataframe tbody tr th:only-of-type {\n",
       "        vertical-align: middle;\n",
       "    }\n",
       "\n",
       "    .dataframe tbody tr th {\n",
       "        vertical-align: top;\n",
       "    }\n",
       "\n",
       "    .dataframe thead th {\n",
       "        text-align: right;\n",
       "    }\n",
       "</style>\n",
       "<table border=\"1\" class=\"dataframe\">\n",
       "  <thead>\n",
       "    <tr style=\"text-align: right;\">\n",
       "      <th></th>\n",
       "      <th>Purchased</th>\n",
       "      <th>Not Purchased</th>\n",
       "      <th>Purchase Percentage</th>\n",
       "    </tr>\n",
       "  </thead>\n",
       "  <tbody>\n",
       "    <tr>\n",
       "      <th>whole milk</th>\n",
       "      <td>2513</td>\n",
       "      <td>7322</td>\n",
       "      <td>5.794729</td>\n",
       "    </tr>\n",
       "    <tr>\n",
       "      <th>other vegetables</th>\n",
       "      <td>1903</td>\n",
       "      <td>7932</td>\n",
       "      <td>4.388129</td>\n",
       "    </tr>\n",
       "    <tr>\n",
       "      <th>rolls/buns</th>\n",
       "      <td>1809</td>\n",
       "      <td>8026</td>\n",
       "      <td>4.171375</td>\n",
       "    </tr>\n",
       "    <tr>\n",
       "      <th>soda</th>\n",
       "      <td>1715</td>\n",
       "      <td>8120</td>\n",
       "      <td>3.954620</td>\n",
       "    </tr>\n",
       "    <tr>\n",
       "      <th>yogurt</th>\n",
       "      <td>1372</td>\n",
       "      <td>8463</td>\n",
       "      <td>3.163696</td>\n",
       "    </tr>\n",
       "  </tbody>\n",
       "</table>\n",
       "</div>"
      ],
      "text/plain": [
       "                  Purchased  Not Purchased  Purchase Percentage\n",
       "whole milk             2513           7322             5.794729\n",
       "other vegetables       1903           7932             4.388129\n",
       "rolls/buns             1809           8026             4.171375\n",
       "soda                   1715           8120             3.954620\n",
       "yogurt                 1372           8463             3.163696"
      ]
     },
     "execution_count": 134,
     "metadata": {},
     "output_type": "execute_result"
    }
   ],
   "source": [
    "# Añadir el porcentaje de compras de cada producto\n",
    "compras_producto['Purchase Percentage'] = (compras_producto['Purchased'] / sum(compras_producto['Purchased'])) * 100\n",
    "compras_producto.head()\n"
   ]
  },
  {
   "cell_type": "code",
   "execution_count": null,
   "id": "b31150e7",
   "metadata": {},
   "outputs": [
    {
     "name": "stdout",
     "output_type": "stream",
     "text": [
      "La media del porcentaje de productos comprados es: 0.58%\n"
     ]
    }
   ],
   "source": [
    "# Calcular la media del porcentaje de compras\n",
    "media_porcentaje_compras = compras_producto['Purchase Percentage'].mean()\n",
    "print(f\"La media del porcentaje de productos comprados es: {media_porcentaje_compras:.2f}%\")"
   ]
  }
 ],
 "metadata": {
  "kernelspec": {
   "display_name": "Python 3",
   "language": "python",
   "name": "python3"
  },
  "language_info": {
   "codemirror_mode": {
    "name": "ipython",
    "version": 3
   },
   "file_extension": ".py",
   "mimetype": "text/x-python",
   "name": "python",
   "nbconvert_exporter": "python",
   "pygments_lexer": "ipython3",
   "version": "3.12.2"
  }
 },
 "nbformat": 4,
 "nbformat_minor": 5
}
